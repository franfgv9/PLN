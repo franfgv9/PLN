{
  "nbformat": 4,
  "nbformat_minor": 0,
  "metadata": {
    "colab": {
      "provenance": [],
      "authorship_tag": "ABX9TyOsxoIPlypjwWXiDD2quFby",
      "include_colab_link": true
    },
    "kernelspec": {
      "name": "python3",
      "display_name": "Python 3"
    },
    "language_info": {
      "name": "python"
    }
  },
  "cells": [
    {
      "cell_type": "markdown",
      "metadata": {
        "id": "view-in-github",
        "colab_type": "text"
      },
      "source": [
        "<a href=\"https://colab.research.google.com/github/franfgv9/PLN/blob/main/Pr%C3%A1ctica2_PLN.ipynb\" target=\"_parent\"><img src=\"https://colab.research.google.com/assets/colab-badge.svg\" alt=\"Open In Colab\"/></a>"
      ]
    },
    {
      "cell_type": "code",
      "source": [
        "txt = 'No meio do programa ouvia-se: \"um por todos e todos por um\". Por ser o lema dos Três Mosqueteiros, e porque sim! Programas assim já não se fazem.'"
      ],
      "metadata": {
        "id": "kqD9c40Ozafl"
      },
      "execution_count": 1,
      "outputs": []
    },
    {
      "cell_type": "code",
      "source": [
        "import re"
      ],
      "metadata": {
        "id": "_TFh0hDPzkLv"
      },
      "execution_count": 2,
      "outputs": []
    },
    {
      "cell_type": "markdown",
      "source": [
        "Ejemplo 1.1 – Buscar una palabra simple"
      ],
      "metadata": {
        "id": "YYgZsliizpJ0"
      }
    },
    {
      "cell_type": "code",
      "source": [
        "x = re.findall(r\"por\", txt)  # El prefijo r indica una raw string, es decir, que no se interpretan los caracteres especiales de Python (por ejemplo \\n o \\t).\n",
        "print(x)\n",
        "\n",
        "# ⚠️ Problema: también encontrará \"porque\", \"porém\", etc., ya que no hay ningún límite de palabra definido."
      ],
      "metadata": {
        "colab": {
          "base_uri": "https://localhost:8080/"
        },
        "id": "kB3j-7NDzqGC",
        "outputId": "7f366117-7d9c-42d4-b650-fcc393b5297f"
      },
      "execution_count": 4,
      "outputs": [
        {
          "output_type": "stream",
          "name": "stdout",
          "text": [
            "['por', 'por', 'por']\n"
          ]
        }
      ]
    },
    {
      "cell_type": "markdown",
      "source": [
        "Ejemplo 1.2 – Ignorar mayúsculas/minúsculas"
      ],
      "metadata": {
        "id": "gd2rZTtb0DCV"
      }
    },
    {
      "cell_type": "code",
      "source": [
        "x = re.findall(r\"[Pp]or\", txt)    # [Pp] indica que puede aparecer una P mayúscula o minúscula.\n",
        "print(x)"
      ],
      "metadata": {
        "colab": {
          "base_uri": "https://localhost:8080/"
        },
        "id": "W9ThiOsH0Dr4",
        "outputId": "4934a0d0-0851-4825-f34a-1e132b707c83"
      },
      "execution_count": 7,
      "outputs": [
        {
          "output_type": "stream",
          "name": "stdout",
          "text": [
            "['por', 'por', 'Por', 'por']\n"
          ]
        }
      ]
    },
    {
      "cell_type": "markdown",
      "source": [
        "Ejemplo 1.3 – Buscar solo la palabra completa “por”"
      ],
      "metadata": {
        "id": "2z-dHHXO0MaQ"
      }
    },
    {
      "cell_type": "code",
      "source": [
        "x = re.findall(r\"\\b[Pp]or\\b\", txt)   # \\b Marca el inicio o el final de una palabra.\n",
        "print(x)\n",
        "\n",
        "# ✅ Resultado: ahora solo devuelve \"por\" o \"Por\", no “porque” ni “reportagem”."
      ],
      "metadata": {
        "colab": {
          "base_uri": "https://localhost:8080/"
        },
        "id": "jVFj3RF40NPp",
        "outputId": "bdc1e60c-8f31-4b0f-8544-0d6d9ec3eefc"
      },
      "execution_count": 8,
      "outputs": [
        {
          "output_type": "stream",
          "name": "stdout",
          "text": [
            "['por', 'por', 'Por']\n"
          ]
        }
      ]
    },
    {
      "cell_type": "markdown",
      "source": [
        "Ejemplo 1.4 – Tokenizar (dividir) un texto en palabras"
      ],
      "metadata": {
        "id": "_8H6SOqn0dHe"
      }
    },
    {
      "cell_type": "code",
      "source": [
        "x = re.split(r\"\\s+\", txt)\n",
        "print(x)\n",
        "\n",
        "# re.split() divide una cadena en una lista usando el patrón que se le indique.\n",
        "# El patrón \\s+ significa:\n",
        "  # \\s → cualquier espacio en blanco (espacio, tabulación, salto de línea…)\n",
        "  # + → uno o más.\n",
        "# Así que el texto se separa en palabras (tokens) cuando se encuentra uno o más espacios."
      ],
      "metadata": {
        "colab": {
          "base_uri": "https://localhost:8080/"
        },
        "id": "DjJhb0T80moP",
        "outputId": "4207b6b3-c864-4ed2-eb03-2cb87137dcfa"
      },
      "execution_count": 9,
      "outputs": [
        {
          "output_type": "stream",
          "name": "stdout",
          "text": [
            "['No', 'meio', 'do', 'programa', 'ouvia-se:', '\"um', 'por', 'todos', 'e', 'todos', 'por', 'um\".', 'Por', 'ser', 'o', 'lema', 'dos', 'Três', 'Mosqueteiros,', 'e', 'porque', 'sim!', 'Programas', 'assim', 'já', 'não', 'se', 'fazem.']\n"
          ]
        }
      ]
    },
    {
      "cell_type": "markdown",
      "source": [
        "Ejemplo 1.5 – Separar un texto en frases"
      ],
      "metadata": {
        "id": "b2aHR0vD04Fs"
      }
    },
    {
      "cell_type": "code",
      "source": [
        "x = re.split(r\"[.!?]+\", txt)\n",
        "print(x)\n",
        "\n",
        "# [.!?]+ indica uno o más signos de punto (.), exclamación (!) o interrogación (?).\n",
        "# Con esto, el texto se divide cada vez que termina una frase."
      ],
      "metadata": {
        "colab": {
          "base_uri": "https://localhost:8080/"
        },
        "id": "2BpWpgrq08h3",
        "outputId": "7c1c3091-eaa9-4f81-b64d-f6c699c98ef4"
      },
      "execution_count": 10,
      "outputs": [
        {
          "output_type": "stream",
          "name": "stdout",
          "text": [
            "['No meio do programa ouvia-se: \"um por todos e todos por um\"', ' Por ser o lema dos Três Mosqueteiros, e porque sim', ' Programas assim já não se fazem', '']\n"
          ]
        }
      ]
    },
    {
      "cell_type": "markdown",
      "source": [
        "Ejemplo 1.6 – Palabras que comienzan con mayúscula"
      ],
      "metadata": {
        "id": "uvHtki5l1gjW"
      }
    },
    {
      "cell_type": "code",
      "source": [
        "x = re.findall(r\"\\b[A-Z][a-z]*\\b\", txt)\n",
        "print(x)\n",
        "\n",
        "# \\b → límite de palabra (inicio o fin).\n",
        "# [A-Z] → una letra mayúscula.\n",
        "# [a-z]* → cero o más letras minúsculas después.\n",
        "# Por tanto, el patrón encuentra todas las palabras que empiezan con mayúscula y continúan con minúsculas."
      ],
      "metadata": {
        "id": "6EovVkEG1irT"
      },
      "execution_count": null,
      "outputs": []
    },
    {
      "cell_type": "markdown",
      "source": [
        "Ejemplo 1.7 – Contar las ocurrencias de una palabra"
      ],
      "metadata": {
        "id": "UEMRhHG_1wN5"
      }
    },
    {
      "cell_type": "code",
      "source": [
        "x = re.findall(r\"\\b[Pp]rogramas?\\b\", txt)\n",
        "c = len(x)\n",
        "print(c)\n",
        "\n",
        "# rogramas? → la s? significa que la “s” final es opcional.\n",
        "# ✅ Resultado: el número total de veces que aparece “programa” o “programas” en el texto."
      ],
      "metadata": {
        "id": "OZi1dQ-A11-D"
      },
      "execution_count": null,
      "outputs": []
    },
    {
      "cell_type": "markdown",
      "source": [
        "Ejemplo 1.8 – Palabras con al menos tres caracteres"
      ],
      "metadata": {
        "id": "TPIToG1_5hxT"
      }
    },
    {
      "cell_type": "code",
      "source": [
        "x = re.findall(r\"\\b\\w{3,}\\b\", txt)\n",
        "print(x)\n",
        "\n",
        "# \\w → cualquier carácter de palabra (letra, número o guion bajo).\n",
        "# {3,} → al menos 3 caracteres seguidos.\n",
        "# El patrón extrae todas las palabras “largas” del texto."
      ],
      "metadata": {
        "id": "NlIVY4xw5k4u"
      },
      "execution_count": null,
      "outputs": []
    },
    {
      "cell_type": "markdown",
      "source": [
        "Ejemplo 1.9 – Sustituir palabras específicas con contexto"
      ],
      "metadata": {
        "id": "h_sHevbu51aU"
      }
    },
    {
      "cell_type": "code",
      "source": [
        "txt = \"Um por todos e todos por um!\"\n",
        "x = re.sub(r'por(?= (todos|um))', 'contra', txt)\n",
        "print(x)\n",
        "\n",
        "# re.sub(patrón, reemplazo, texto) → sustituye el patrón por el texto indicado.\n",
        "# (?= ...) → es una lookahead positiva, que busca coincidencias solo si después viene algo determinado.\n",
        "# En este caso: busca “por” solo si va seguido de \" todos\" o \" um\".\n",
        "# Así, sustituye \"por\" por \"contra\" solo en esas condiciones."
      ],
      "metadata": {
        "colab": {
          "base_uri": "https://localhost:8080/"
        },
        "id": "t_7FlNU_53t6",
        "outputId": "2d64f612-d063-41e4-8e27-03aad28554f9"
      },
      "execution_count": 11,
      "outputs": [
        {
          "output_type": "stream",
          "name": "stdout",
          "text": [
            "Um contra todos e todos contra um!\n"
          ]
        }
      ]
    },
    {
      "cell_type": "markdown",
      "source": [
        "Ejemplo 1.10 – Sustituir usando parte del texto original"
      ],
      "metadata": {
        "id": "1tzG1M-n7hsn"
      }
    },
    {
      "cell_type": "code",
      "source": [
        "x = re.sub(r'(um|todos) por (um|todos)', r'\\2 contra \\1', txt)\n",
        "print(x)\n",
        "\n",
        "\n",
        "# (um|todos) → grupo que captura \"um\" o \"todos\".\n",
        "# \\2 y \\1 → hacen referencia a los grupos capturados (el 2.º y el 1.º).\n",
        "# Entonces:\n",
        "  # El patrón busca expresiones tipo \"um por todos\" o \"todos por um\".\n",
        "  # Las reescribe invirtiendo el orden: \"todos contra um\" o \"um contra todos\"."
      ],
      "metadata": {
        "colab": {
          "base_uri": "https://localhost:8080/"
        },
        "id": "Cn1zYJJq7kCL",
        "outputId": "f4b40380-eae0-4a38-b245-22e826217bd8"
      },
      "execution_count": 12,
      "outputs": [
        {
          "output_type": "stream",
          "name": "stdout",
          "text": [
            "Um por todos e um contra todos!\n"
          ]
        }
      ]
    },
    {
      "cell_type": "markdown",
      "source": [
        "🧩 Exercício 1.1 — Encontrar secuencias de dígitos\n",
        "\n",
        "📘 Objetivo:\n",
        "Detectar números dentro de un texto (por ejemplo, fechas, años, cifras, etc.)."
      ],
      "metadata": {
        "id": "JrZLrpSy8Qkk"
      }
    },
    {
      "cell_type": "code",
      "source": [
        "txt = \"Tenho 2 gatos e 15 peixes desde 2020.\"\n",
        "x = re.findall(r\"\\d+\", txt)\n",
        "print(x)"
      ],
      "metadata": {
        "colab": {
          "base_uri": "https://localhost:8080/"
        },
        "id": "6zrKYinC8bdH",
        "outputId": "ae61f917-7d60-4b98-de48-5f7a81a49364"
      },
      "execution_count": 13,
      "outputs": [
        {
          "output_type": "stream",
          "name": "stdout",
          "text": [
            "['2', '15', '2020']\n"
          ]
        }
      ]
    },
    {
      "cell_type": "markdown",
      "source": [
        "🧩 Exercício 1.2 — Encontrar “texto” en cualquier caso\n",
        "\n",
        "📘 Objetivo:\n",
        "Localizar la palabra “texto” sin importar si está escrita como “Texto”, “TEXTO” o “teXto”."
      ],
      "metadata": {
        "id": "RwTlftHx8i1U"
      }
    },
    {
      "cell_type": "markdown",
      "source": [
        "OPCION 1 (CHATI)"
      ],
      "metadata": {
        "id": "X-Jz4IJj84I7"
      }
    },
    {
      "cell_type": "code",
      "source": [
        "txt = \"Este TEXTO é um pequeno texto sobre Texto.\"\n",
        "x = re.findall(r\"(?i)\\btexto\\b\", txt)\n",
        "print(x)\n",
        "\n",
        "# (?i) → activa el modo case-insensitive (ignora mayúsculas/minúsculas).\n",
        "# \\b → asegura que se trate de la palabra completa."
      ],
      "metadata": {
        "colab": {
          "base_uri": "https://localhost:8080/"
        },
        "id": "gJp7d1cL8lWq",
        "outputId": "d88989c2-6497-44dc-edad-29e79d75c702"
      },
      "execution_count": 14,
      "outputs": [
        {
          "output_type": "stream",
          "name": "stdout",
          "text": [
            "['TEXTO', 'texto', 'Texto']\n"
          ]
        }
      ]
    },
    {
      "cell_type": "markdown",
      "source": [
        "OPCIÓN 2 (CLASE)"
      ],
      "metadata": {
        "id": "6xsuti6g87eG"
      }
    },
    {
      "cell_type": "code",
      "source": [
        "x = re.findall(r\"\\b[Tt][Ee][Xx][Tt][Oo]\\b\", txt)\n",
        "print(x)"
      ],
      "metadata": {
        "colab": {
          "base_uri": "https://localhost:8080/"
        },
        "id": "QJaMO3Ws9AAR",
        "outputId": "4daea23a-bee0-456f-c567-715e31179026"
      },
      "execution_count": 15,
      "outputs": [
        {
          "output_type": "stream",
          "name": "stdout",
          "text": [
            "['TEXTO', 'texto', 'Texto']\n"
          ]
        }
      ]
    },
    {
      "cell_type": "markdown",
      "source": [
        "🧩 Exercício 1.3 — Encontrar verbos en gerundio\n",
        "\n",
        "📘 Objetivo:\n",
        "Detectar palabras terminadas en -ando, -endo, -indo, -ondo, -undo (formas del gerundio)."
      ],
      "metadata": {
        "id": "G9-Qjj489YaQ"
      }
    },
    {
      "cell_type": "code",
      "source": [
        "txt = \"Estou cantando, comendo e dormindo ao mesmo tempo!\"\n",
        "x = re.findall(r\"\\b[A-Za-z]+[aeio]ndo\\b\", txt)\n",
        "print(x)"
      ],
      "metadata": {
        "colab": {
          "base_uri": "https://localhost:8080/"
        },
        "id": "zBPvPHqb-_8P",
        "outputId": "87d0e060-104d-4740-8e72-f1c1b31160d5"
      },
      "execution_count": 19,
      "outputs": [
        {
          "output_type": "stream",
          "name": "stdout",
          "text": [
            "['cantando', 'comendo', 'dormindo']\n"
          ]
        }
      ]
    },
    {
      "cell_type": "code",
      "source": [
        "txt = \"Estou cantando, comendo e dormindo ao mesmo tempo!\"\n",
        "x = re.findall(r\"\\b\\w+[aeio]ndo\\b\", txt)\n",
        "print(x)"
      ],
      "metadata": {
        "colab": {
          "base_uri": "https://localhost:8080/"
        },
        "id": "JgPydqX-AabR",
        "outputId": "e671b384-4d97-4242-8398-d8c510f5c810"
      },
      "execution_count": 20,
      "outputs": [
        {
          "output_type": "stream",
          "name": "stdout",
          "text": [
            "['cantando', 'comendo', 'dormindo']\n"
          ]
        }
      ]
    },
    {
      "cell_type": "markdown",
      "source": [
        "🧩 Exercício 1.4 — Palabras que comienzan por “z”\n",
        "\n",
        "📘 Objetivo:\n",
        "Encontrar todas las palabras que empiecen por “z” o “Z”."
      ],
      "metadata": {
        "id": "KDE1uNz0A0-8"
      }
    },
    {
      "cell_type": "code",
      "source": [
        "txt = \"O Zorro correu pela zona de Zamora z.\"\n",
        "x = re.findall(r\"\\b[Zz]\\w*\\b\", txt)\n",
        "print(x)\n",
        "\n",
        "# \\w* → cero o más caracteres alfanuméricos (letras, números o “_”)."
      ],
      "metadata": {
        "id": "OkaaqoP2A3qc",
        "outputId": "b011a2c7-ccc6-4ebb-a604-1c1bf42f6438",
        "colab": {
          "base_uri": "https://localhost:8080/"
        }
      },
      "execution_count": 24,
      "outputs": [
        {
          "output_type": "stream",
          "name": "stdout",
          "text": [
            "['Zorro', 'zona', 'Zamora', 'z']\n"
          ]
        }
      ]
    },
    {
      "cell_type": "code",
      "source": [
        "txt = \"O Zorro correu pela zona de Zamora z.\"\n",
        "x = re.findall(r\"\\b[Zz]\\w+\\b\", txt)\n",
        "print(x)\n",
        "\n",
        "# \\w+ -> uno o más"
      ],
      "metadata": {
        "id": "QTVoSO8GA_eP",
        "outputId": "f162060c-59fa-40c0-eb9b-2955c24cb1b5",
        "colab": {
          "base_uri": "https://localhost:8080/"
        }
      },
      "execution_count": 25,
      "outputs": [
        {
          "output_type": "stream",
          "name": "stdout",
          "text": [
            "['Zorro', 'zona', 'Zamora']\n"
          ]
        }
      ]
    },
    {
      "cell_type": "markdown",
      "source": [
        "🧩 Exercício 1.5 — Palabras con al menos dos vocales consecutivas\n",
        "\n",
        "📘 Objetivo:\n",
        "Detectar palabras que contengan dos o más vocales seguidas, como “voo”, “ainda”, “cooperar”."
      ],
      "metadata": {
        "id": "pCZ7TeSoBd0n"
      }
    },
    {
      "cell_type": "code",
      "source": [
        "txt = \"O voo foi muito longo e o João cooperou.\"\n",
        "x = re.findall(r\"\\b\\w*[aeiou]{2,}\\w*\\b\", txt)\n",
        "print(x)\n",
        "\n",
        "# [aeiou]{2,} → dos o más vocales seguidas."
      ],
      "metadata": {
        "id": "XzNX9xSMBiDP",
        "outputId": "c95ab96f-1b5a-4e93-a331-04a2025bbe23",
        "colab": {
          "base_uri": "https://localhost:8080/"
        }
      },
      "execution_count": 26,
      "outputs": [
        {
          "output_type": "stream",
          "name": "stdout",
          "text": [
            "['voo', 'foi', 'muito', 'cooperou']\n"
          ]
        }
      ]
    },
    {
      "cell_type": "code",
      "source": [
        "txt = \"O voo foi muito longo e o João cooperou.\"\n",
        "x = re.findall(r\"(?i)\\b\\w*[aeiou]+[aeiou]\\w*\\b\", txt)\n",
        "print(x)"
      ],
      "metadata": {
        "id": "DRJdbvEnBvJs",
        "outputId": "0b2836cc-a685-49e0-9420-6866ad70b997",
        "colab": {
          "base_uri": "https://localhost:8080/"
        }
      },
      "execution_count": 29,
      "outputs": [
        {
          "output_type": "stream",
          "name": "stdout",
          "text": [
            "['voo', 'foi', 'muito', 'cooperou']\n"
          ]
        }
      ]
    },
    {
      "cell_type": "markdown",
      "source": [
        "🧩 Exercício 1.6 — Corregir comas mal colocadas\n",
        "\n",
        "📘 Objetivo:\n",
        "Agregar un espacio después de una coma si no lo hay."
      ],
      "metadata": {
        "id": "BuDLfL5mCvVQ"
      }
    },
    {
      "cell_type": "code",
      "source": [
        "txt = \"Hoje é sexta,amanhã é sábado,e depois domingo.\"\n",
        "x = re.sub(r\",(?=\\S)\", \", \", txt)   # (\\S = lo contrario de \\s)\n",
        "print(x)\n",
        "\n",
        "# (?=\\S) → lookahead positivo, busca comas seguidas de algo que no sea un espacio.\n",
        "# Se reemplaza por \", \" (coma + espacio)."
      ],
      "metadata": {
        "id": "DxV3I6K4CwCs",
        "outputId": "a17b969b-d0ad-414f-a825-467ad1b1032e",
        "colab": {
          "base_uri": "https://localhost:8080/"
        }
      },
      "execution_count": 30,
      "outputs": [
        {
          "output_type": "stream",
          "name": "stdout",
          "text": [
            "Hoje é sexta, amanhã é sábado, e depois domingo.\n"
          ]
        }
      ]
    },
    {
      "cell_type": "markdown",
      "source": [
        "🧩 Exercício 1.7 — Cambiar formato de fecha\n",
        "\n",
        "📘 Objetivo:\n",
        "Convertir fechas del formato dd-mm-yyyy a dd/mm/yyyy."
      ],
      "metadata": {
        "id": "X2knxXFeE4Yr"
      }
    },
    {
      "cell_type": "code",
      "source": [
        "txt = \"Datas importantes: 25-12-2024 e 01-01-2025.\"\n",
        "x = re.sub(r\"(\\d{2})-(\\d{2})-(\\d{4})\", r\"\\1/\\2/\\3\", txt)\n",
        "print(x)\n",
        "\n",
        "# Cada grupo entre paréntesis () se guarda temporalmente y se numera en orden de aparición:\n",
        "# \\1 → primer grupo capturado\n",
        "# \\2 → segundo grupo\n",
        "# \\3 → tercer grupo"
      ],
      "metadata": {
        "id": "zvjhwyZIE8Zu",
        "outputId": "158d1636-4cf5-49b6-cb13-d267c041e51b",
        "colab": {
          "base_uri": "https://localhost:8080/"
        }
      },
      "execution_count": 31,
      "outputs": [
        {
          "output_type": "stream",
          "name": "stdout",
          "text": [
            "Datas importantes: 25/12/2024 e 01/01/2025.\n"
          ]
        }
      ]
    },
    {
      "cell_type": "code",
      "source": [
        "txt = \"Datas importantes: 25-12-2024 e 01-01-2025.\"\n",
        "x = re.findall(r\"(\\d{2})-(\\d{2})-(\\d{4})\", txt)\n",
        "print(x)\n",
        "\n",
        "x_f = {f\"{d}/{m}/{a}\" for d, m, a in x}\n",
        "print(x_f)\n",
        "\n"
      ],
      "metadata": {
        "id": "GSXRqHGTHA4F",
        "outputId": "89956d03-85ad-42d1-a3f6-d7cca24de2d4",
        "colab": {
          "base_uri": "https://localhost:8080/"
        }
      },
      "execution_count": 33,
      "outputs": [
        {
          "output_type": "stream",
          "name": "stdout",
          "text": [
            "[('25', '12', '2024'), ('01', '01', '2025')]\n",
            "{'25/12/2024', '01/01/2025'}\n"
          ]
        }
      ]
    }
  ]
}