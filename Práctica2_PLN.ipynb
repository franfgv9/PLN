{
  "nbformat": 4,
  "nbformat_minor": 0,
  "metadata": {
    "colab": {
      "provenance": [],
      "authorship_tag": "ABX9TyO9P/E6lRYZyj8/JkKVZdI5",
      "include_colab_link": true
    },
    "kernelspec": {
      "name": "python3",
      "display_name": "Python 3"
    },
    "language_info": {
      "name": "python"
    }
  },
  "cells": [
    {
      "cell_type": "markdown",
      "metadata": {
        "id": "view-in-github",
        "colab_type": "text"
      },
      "source": [
        "<a href=\"https://colab.research.google.com/github/franfgv9/PLN/blob/main/Pr%C3%A1ctica2_PLN.ipynb\" target=\"_parent\"><img src=\"https://colab.research.google.com/assets/colab-badge.svg\" alt=\"Open In Colab\"/></a>"
      ]
    },
    {
      "cell_type": "code",
      "source": [
        "txt = \"No meio do programa ouvia - se :  um por todos e todos por um \". Por ser o lema dos Tr ê s Mosqueteiros , e porque sim ! Programas assim j á n ã o se fazem .\""
      ],
      "metadata": {
        "colab": {
          "base_uri": "https://localhost:8080/",
          "height": 141
        },
        "id": "tj8lVdj2SEaH",
        "outputId": "6230067d-51c2-4a9c-cfb0-462ccfd98b3f"
      },
      "execution_count": 3,
      "outputs": [
        {
          "output_type": "error",
          "ename": "SyntaxError",
          "evalue": "unterminated string literal (detected at line 1) (ipython-input-4081478955.py, line 1)",
          "traceback": [
            "\u001b[0;36m  File \u001b[0;32m\"/tmp/ipython-input-4081478955.py\"\u001b[0;36m, line \u001b[0;32m1\u001b[0m\n\u001b[0;31m    txt = \"No meio do programa ouvia - se :  um por todos e todos por um \". Por ser o lema dos Tr ê s Mosqueteiros , e porque sim ! Programas assim j á n ã o se fazem .\"\u001b[0m\n\u001b[0m                                                                                                                                                                        ^\u001b[0m\n\u001b[0;31mSyntaxError\u001b[0m\u001b[0;31m:\u001b[0m unterminated string literal (detected at line 1)\n"
          ]
        }
      ]
    },
    {
      "cell_type": "code",
      "source": [
        "import re\n",
        "\n",
        "txt = \"A turma tem 25 alunos e 3 professores.\"\n",
        "print(re.findall(r\"\\d+\", txt))"
      ],
      "metadata": {
        "colab": {
          "base_uri": "https://localhost:8080/"
        },
        "id": "nZAwgVuUSJE8",
        "outputId": "e3977ea7-2359-44f2-b747-e313de3954cc"
      },
      "execution_count": 5,
      "outputs": [
        {
          "output_type": "stream",
          "name": "stdout",
          "text": [
            "['25', '3']\n"
          ]
        }
      ]
    },
    {
      "cell_type": "code",
      "source": [
        "txt = ' No meio do texto ia-se escrevendo: \"ora a pé, ora andando\" . Compondo o TEXTO, Texto'"
      ],
      "metadata": {
        "id": "Iy_cxvNbXgHz"
      },
      "execution_count": 7,
      "outputs": []
    },
    {
      "cell_type": "code",
      "source": [],
      "metadata": {
        "id": "JWf6y4gOYGOa"
      },
      "execution_count": null,
      "outputs": []
    }
  ]
}